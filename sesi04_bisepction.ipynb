{
  "nbformat": 4,
  "nbformat_minor": 0,
  "metadata": {
    "colab": {
      "provenance": [],
      "authorship_tag": "ABX9TyObFoFYPzy4AzmU4h/UKdoL",
      "include_colab_link": true
    },
    "kernelspec": {
      "name": "python3",
      "display_name": "Python 3"
    },
    "language_info": {
      "name": "python"
    }
  },
  "cells": [
    {
      "cell_type": "markdown",
      "metadata": {
        "id": "view-in-github",
        "colab_type": "text"
      },
      "source": [
        "<a href=\"https://colab.research.google.com/github/rizkyghasani/nanoo/blob/main/sesi04_bisepction.ipynb\" target=\"_parent\"><img src=\"https://colab.research.google.com/assets/colab-badge.svg\" alt=\"Open In Colab\"/></a>"
      ]
    },
    {
      "cell_type": "code",
      "execution_count": 13,
      "metadata": {
        "id": "ozQJSY59mlNq"
      },
      "outputs": [],
      "source": [
        "import numpy as np\n",
        "\n",
        "def my_bisection(f, a, b, tol):\n",
        "    # approximates a root, R, of f bounded\n",
        "    # by a and b to within tolerance\n",
        "    # | f(m) | < tol with m the midpoint\n",
        "    # between a and b Recursive implementation\n",
        "\n",
        "    #check if a and b bound a root\n",
        "    if np. sign (f(a)) == np.sign (f (b)):\n",
        "        raise Exception(\n",
        "            \"The scalars a and b do not bound a root\")\n",
        "\n",
        "    # get midpoint\n",
        "    m = (a + b)/2\n",
        "\n",
        "    if np.abs(f(m)) < tol:\n",
        "        # stopping condition, report m as root\n",
        "        return m\n",
        "    elif np.sign (f (a)) == np.sign (f (m)):\n",
        "        # case where m is an improvement on a.\n",
        "        # Make recursive call with a = m\n",
        "        return my_bisection(f, m, b, tol)\n",
        "    elif np.sign (f (b) ) == np.sign(f (m)):\n",
        "        # case where m is an improvement on b.\n",
        "        # Make recursive call with b = m\n",
        "        return my_bisection(f, a, m, tol)"
      ]
    },
    {
      "cell_type": "code",
      "source": [
        "f = lambda x: x**2 - 2\n",
        "\n",
        "r1 = my_bisection(f, 0, 2, 0.1)\n",
        "print (\"rl =\", r1)\n",
        "r01 = my_bisection(f, 0, 2, 0.01)\n",
        "print (\"r01 =\", r01)\n",
        "\n",
        "print (\"f(r1) =\", f(r1))\n",
        "print (\"f(r01) =\", f(r01))"
      ],
      "metadata": {
        "colab": {
          "base_uri": "https://localhost:8080/"
        },
        "id": "1MTx_sgbpCdF",
        "outputId": "a672e85d-c2e0-458e-d9e3-77faa769320b"
      },
      "execution_count": 14,
      "outputs": [
        {
          "output_type": "stream",
          "name": "stdout",
          "text": [
            "rl = 1.4375\n",
            "r01 = 1.4140625\n",
            "f(r1) = 0.06640625\n",
            "f(r01) = -0.00042724609375\n"
          ]
        }
      ]
    },
    {
      "cell_type": "code",
      "source": [
        "my_bisection(f, 2, 4, 0.01)"
      ],
      "metadata": {
        "colab": {
          "base_uri": "https://localhost:8080/",
          "height": 269
        },
        "id": "gIvZ96fkqzHf",
        "outputId": "2e5b92f1-5f31-4943-ea3f-2464f31a4559"
      },
      "execution_count": 15,
      "outputs": [
        {
          "output_type": "error",
          "ename": "Exception",
          "evalue": "The scalars a and b do not bound a root",
          "traceback": [
            "\u001b[0;31m---------------------------------------------------------------------------\u001b[0m",
            "\u001b[0;31mException\u001b[0m                                 Traceback (most recent call last)",
            "\u001b[0;32m<ipython-input-15-4158b7a9ae67>\u001b[0m in \u001b[0;36m<cell line: 1>\u001b[0;34m()\u001b[0m\n\u001b[0;32m----> 1\u001b[0;31m \u001b[0mmy_bisection\u001b[0m\u001b[0;34m(\u001b[0m\u001b[0mf\u001b[0m\u001b[0;34m,\u001b[0m \u001b[0;36m2\u001b[0m\u001b[0;34m,\u001b[0m \u001b[0;36m4\u001b[0m\u001b[0;34m,\u001b[0m \u001b[0;36m0.01\u001b[0m\u001b[0;34m)\u001b[0m\u001b[0;34m\u001b[0m\u001b[0;34m\u001b[0m\u001b[0m\n\u001b[0m",
            "\u001b[0;32m<ipython-input-13-1621e90cccb0>\u001b[0m in \u001b[0;36mmy_bisection\u001b[0;34m(f, a, b, tol)\u001b[0m\n\u001b[1;32m      9\u001b[0m     \u001b[0;31m#check if a and b bound a root\u001b[0m\u001b[0;34m\u001b[0m\u001b[0;34m\u001b[0m\u001b[0m\n\u001b[1;32m     10\u001b[0m     \u001b[0;32mif\u001b[0m \u001b[0mnp\u001b[0m\u001b[0;34m.\u001b[0m \u001b[0msign\u001b[0m \u001b[0;34m(\u001b[0m\u001b[0mf\u001b[0m\u001b[0;34m(\u001b[0m\u001b[0ma\u001b[0m\u001b[0;34m)\u001b[0m\u001b[0;34m)\u001b[0m \u001b[0;34m==\u001b[0m \u001b[0mnp\u001b[0m\u001b[0;34m.\u001b[0m\u001b[0msign\u001b[0m \u001b[0;34m(\u001b[0m\u001b[0mf\u001b[0m \u001b[0;34m(\u001b[0m\u001b[0mb\u001b[0m\u001b[0;34m)\u001b[0m\u001b[0;34m)\u001b[0m\u001b[0;34m:\u001b[0m\u001b[0;34m\u001b[0m\u001b[0;34m\u001b[0m\u001b[0m\n\u001b[0;32m---> 11\u001b[0;31m         raise Exception(\n\u001b[0m\u001b[1;32m     12\u001b[0m             \"The scalars a and b do not bound a root\")\n\u001b[1;32m     13\u001b[0m \u001b[0;34m\u001b[0m\u001b[0m\n",
            "\u001b[0;31mException\u001b[0m: The scalars a and b do not bound a root"
          ]
        }
      ]
    },
    {
      "cell_type": "markdown",
      "source": [
        "Quiz 1 Bisection\n",
        "\n",
        "f(x) = x^3 - 3x^2 + 2x[a,b] = [1,2]tol = 0.01"
      ],
      "metadata": {
        "id": "pMy-Rvksx5n4"
      }
    },
    {
      "cell_type": "code",
      "source": [
        "f = lambda x: x**3 - 3 * x**2 + 2 * x\n",
        "a = 1\n",
        "b = 2\n",
        "tol = 0.01\n",
        "\n",
        "print(my_bisection(f, a, b, tol))"
      ],
      "metadata": {
        "colab": {
          "base_uri": "https://localhost:8080/",
          "height": 305
        },
        "id": "i0NyFxh6x5WK",
        "outputId": "525bf824-72a7-4582-8f7d-c47932dee221"
      },
      "execution_count": 20,
      "outputs": [
        {
          "output_type": "error",
          "ename": "Exception",
          "evalue": "The scalars a and b do not bound a root",
          "traceback": [
            "\u001b[0;31m---------------------------------------------------------------------------\u001b[0m",
            "\u001b[0;31mException\u001b[0m                                 Traceback (most recent call last)",
            "\u001b[0;32m<ipython-input-20-4284a731ef5b>\u001b[0m in \u001b[0;36m<cell line: 6>\u001b[0;34m()\u001b[0m\n\u001b[1;32m      4\u001b[0m \u001b[0mtol\u001b[0m \u001b[0;34m=\u001b[0m \u001b[0;36m0.01\u001b[0m\u001b[0;34m\u001b[0m\u001b[0;34m\u001b[0m\u001b[0m\n\u001b[1;32m      5\u001b[0m \u001b[0;34m\u001b[0m\u001b[0m\n\u001b[0;32m----> 6\u001b[0;31m \u001b[0mprint\u001b[0m\u001b[0;34m(\u001b[0m\u001b[0mmy_bisection\u001b[0m\u001b[0;34m(\u001b[0m\u001b[0mf\u001b[0m\u001b[0;34m,\u001b[0m \u001b[0ma\u001b[0m\u001b[0;34m,\u001b[0m \u001b[0mb\u001b[0m\u001b[0;34m,\u001b[0m \u001b[0mtol\u001b[0m\u001b[0;34m)\u001b[0m\u001b[0;34m)\u001b[0m\u001b[0;34m\u001b[0m\u001b[0;34m\u001b[0m\u001b[0m\n\u001b[0m",
            "\u001b[0;32m<ipython-input-13-1621e90cccb0>\u001b[0m in \u001b[0;36mmy_bisection\u001b[0;34m(f, a, b, tol)\u001b[0m\n\u001b[1;32m      9\u001b[0m     \u001b[0;31m#check if a and b bound a root\u001b[0m\u001b[0;34m\u001b[0m\u001b[0;34m\u001b[0m\u001b[0m\n\u001b[1;32m     10\u001b[0m     \u001b[0;32mif\u001b[0m \u001b[0mnp\u001b[0m\u001b[0;34m.\u001b[0m \u001b[0msign\u001b[0m \u001b[0;34m(\u001b[0m\u001b[0mf\u001b[0m\u001b[0;34m(\u001b[0m\u001b[0ma\u001b[0m\u001b[0;34m)\u001b[0m\u001b[0;34m)\u001b[0m \u001b[0;34m==\u001b[0m \u001b[0mnp\u001b[0m\u001b[0;34m.\u001b[0m\u001b[0msign\u001b[0m \u001b[0;34m(\u001b[0m\u001b[0mf\u001b[0m \u001b[0;34m(\u001b[0m\u001b[0mb\u001b[0m\u001b[0;34m)\u001b[0m\u001b[0;34m)\u001b[0m\u001b[0;34m:\u001b[0m\u001b[0;34m\u001b[0m\u001b[0;34m\u001b[0m\u001b[0m\n\u001b[0;32m---> 11\u001b[0;31m         raise Exception(\n\u001b[0m\u001b[1;32m     12\u001b[0m             \"The scalars a and b do not bound a root\")\n\u001b[1;32m     13\u001b[0m \u001b[0;34m\u001b[0m\u001b[0m\n",
            "\u001b[0;31mException\u001b[0m: The scalars a and b do not bound a root"
          ]
        }
      ]
    },
    {
      "cell_type": "markdown",
      "source": [
        "Quiz 2 Bisection\n",
        "\n",
        "f(x) = sin(x)-x[a,b] = [0,1]tol = 0.001"
      ],
      "metadata": {
        "id": "qiPVeBnjyoNB"
      }
    },
    {
      "cell_type": "code",
      "source": [
        "f = lambda x: np.sin(x) - x\n",
        "a = 0\n",
        "b = 1\n",
        "tol = 0.001\n",
        "\n",
        "print(my_bisection(f, a, b, tol))"
      ],
      "metadata": {
        "colab": {
          "base_uri": "https://localhost:8080/"
        },
        "id": "tKQAJ4hCyngv",
        "outputId": "efceb8aa-c81d-42dd-80a3-bc16207be78c"
      },
      "execution_count": 16,
      "outputs": [
        {
          "output_type": "stream",
          "name": "stdout",
          "text": [
            "0.125\n"
          ]
        }
      ]
    }
  ]
}