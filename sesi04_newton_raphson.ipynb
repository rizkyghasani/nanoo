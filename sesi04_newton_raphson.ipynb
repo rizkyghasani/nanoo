{
  "nbformat": 4,
  "nbformat_minor": 0,
  "metadata": {
    "colab": {
      "provenance": [],
      "authorship_tag": "ABX9TyNW8LNqWjWWpJWCalvyRo64",
      "include_colab_link": true
    },
    "kernelspec": {
      "name": "python3",
      "display_name": "Python 3"
    },
    "language_info": {
      "name": "python"
    }
  },
  "cells": [
    {
      "cell_type": "markdown",
      "metadata": {
        "id": "view-in-github",
        "colab_type": "text"
      },
      "source": [
        "<a href=\"https://colab.research.google.com/github/rizkyghasani/nanoo/blob/main/sesi04_newton_raphson.ipynb\" target=\"_parent\"><img src=\"https://colab.research.google.com/assets/colab-badge.svg\" alt=\"Open In Colab\"/></a>"
      ]
    },
    {
      "cell_type": "code",
      "execution_count": 12,
      "metadata": {
        "colab": {
          "base_uri": "https://localhost:8080/"
        },
        "id": "aoukkw_FrUIH",
        "outputId": "b730573e-0352-405e-ce67-8b7da2569458"
      },
      "outputs": [
        {
          "output_type": "stream",
          "name": "stdout",
          "text": [
            "newton_raphson = 1.4142857142857144\n",
            "sqrt(2) = 1.4142135623730951\n"
          ]
        }
      ],
      "source": [
        "import numpy as np\n",
        "\n",
        "f = lambda x: x**2 - 2\n",
        "f_prime = lambda x: 2*x\n",
        "newton_raphson = 1.4 - (f(1.4)) / (f_prime(1.4))\n",
        "\n",
        "print(\"newton_raphson =\", newton_raphson)\n",
        "print(\"sqrt(2) =\", np.sqrt(2))"
      ]
    },
    {
      "cell_type": "code",
      "source": [
        "def my_newton (f, df, x0, tol):\n",
        "    # output is an estimation of the root of f\n",
        "    # using the Newton Raphson method\n",
        "    #recursive implementation\n",
        "    if abs (f(x0)) < tol:\n",
        "        return x0\n",
        "    else:\n",
        "        return my_newton (f, df, x0 - f(x0) /df (x0), tol)"
      ],
      "metadata": {
        "id": "W4c1F2g-sUk2"
      },
      "execution_count": 13,
      "outputs": []
    },
    {
      "cell_type": "code",
      "source": [
        "estimate = my_newton(f, f_prime, 1.5, 1e-6)\n",
        "print (\"estimate =\", estimate)\n",
        "print (\"sqrt (2) =\", np.sqrt(2))\n"
      ],
      "metadata": {
        "colab": {
          "base_uri": "https://localhost:8080/"
        },
        "id": "lBEdz2Izs0M9",
        "outputId": "ffa3b55e-3af9-4161-bef2-34fed43b641f"
      },
      "execution_count": 14,
      "outputs": [
        {
          "output_type": "stream",
          "name": "stdout",
          "text": [
            "estimate = 1.4142135623746899\n",
            "sqrt (2) = 1.4142135623730951\n"
          ]
        }
      ]
    },
    {
      "cell_type": "markdown",
      "source": [
        "Quiz 1 Newton Raphson\n",
        "\n",
        "f(x) = x^3-3x^2+2x  x0=1.5  tol = 0.01"
      ],
      "metadata": {
        "id": "eXoDBVwwxtge"
      }
    },
    {
      "cell_type": "code",
      "source": [
        "f = lambda x: x**3 - 3 * x**2 + 2 * x\n",
        "f_prime = lambda x: 3 * x**2 - 6 * x + 2\n",
        "x0 = 1.5\n",
        "tol = 0.01\n",
        "\n",
        "print(my_newton(f, f_prime, x0, tol))"
      ],
      "metadata": {
        "colab": {
          "base_uri": "https://localhost:8080/"
        },
        "id": "A1HNzvEauBVv",
        "outputId": "2af00322-b967-4f04-b5e2-d858f7d44ee2"
      },
      "execution_count": 16,
      "outputs": [
        {
          "output_type": "stream",
          "name": "stdout",
          "text": [
            "0.0\n"
          ]
        }
      ]
    },
    {
      "cell_type": "markdown",
      "source": [
        "Quiz 2 Newton Raphson\n",
        "\n",
        "f(x) = e^x - 2x x0 = 1 tol = 0.001"
      ],
      "metadata": {
        "id": "7Bea25lc0xos"
      }
    },
    {
      "cell_type": "code",
      "source": [
        "f = lambda x: np.e**x - 2 * x\n",
        "f_prime = lambda x: np.e**x - 2\n",
        "x0 = 1\n",
        "tol = 0.001 # kalau di besarin angkannya disini dia ga error, tapi hasilnya akan ttp 1\n",
        "\n",
        "print(my_newton(f, f_prime, x0, tol))\n",
        "\n",
        "newton_raphson = 1 - (f(1))/(f_prime(1))\n",
        "\n",
        "print(\"newton_raphson =\", newton_raphson)"
      ],
      "metadata": {
        "colab": {
          "base_uri": "https://localhost:8080/"
        },
        "id": "q-dvClwR07bI",
        "outputId": "ef9b0e02-e2e2-4eb9-be4e-5b8a106d3309"
      },
      "execution_count": 17,
      "outputs": [
        {
          "output_type": "stream",
          "name": "stdout",
          "text": [
            "1\n",
            "newton_raphson = 0.0\n"
          ]
        }
      ]
    }
  ]
}